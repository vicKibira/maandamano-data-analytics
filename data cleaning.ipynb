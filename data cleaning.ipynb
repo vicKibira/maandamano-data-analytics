{
 "cells": [
  {
   "cell_type": "code",
   "execution_count": 1,
   "id": "45660539-43d9-4be8-a891-7aad40f1c782",
   "metadata": {},
   "outputs": [],
   "source": [
    "import pandas as pd"
   ]
  },
  {
   "cell_type": "code",
   "execution_count": 2,
   "id": "9206f87a-bf27-4768-8ab6-ae6b4a04d5b9",
   "metadata": {},
   "outputs": [],
   "source": [
    "df = pd.read_csv('maandamano_kenya_dataset.csv')"
   ]
  },
  {
   "cell_type": "code",
   "execution_count": 3,
   "id": "2a0c2c1d-f9bf-407b-bf79-e6d9e9fba9f0",
   "metadata": {},
   "outputs": [
    {
     "data": {
      "text/html": [
       "<div>\n",
       "<style scoped>\n",
       "    .dataframe tbody tr th:only-of-type {\n",
       "        vertical-align: middle;\n",
       "    }\n",
       "\n",
       "    .dataframe tbody tr th {\n",
       "        vertical-align: top;\n",
       "    }\n",
       "\n",
       "    .dataframe thead th {\n",
       "        text-align: right;\n",
       "    }\n",
       "</style>\n",
       "<table border=\"1\" class=\"dataframe\">\n",
       "  <thead>\n",
       "    <tr style=\"text-align: right;\">\n",
       "      <th></th>\n",
       "      <th>Date</th>\n",
       "      <th>Location</th>\n",
       "      <th>Cause</th>\n",
       "      <th>Participants</th>\n",
       "      <th>Outcome</th>\n",
       "      <th>Organizer</th>\n",
       "    </tr>\n",
       "  </thead>\n",
       "  <tbody>\n",
       "    <tr>\n",
       "      <th>443058</th>\n",
       "      <td>2017-02-01</td>\n",
       "      <td>Meru</td>\n",
       "      <td>Fuel Prices</td>\n",
       "      <td>94800</td>\n",
       "      <td>Violent Clashes</td>\n",
       "      <td>Union</td>\n",
       "    </tr>\n",
       "    <tr>\n",
       "      <th>681691</th>\n",
       "      <td>2020-11-27</td>\n",
       "      <td>Garissa</td>\n",
       "      <td>Unemployment</td>\n",
       "      <td>30339</td>\n",
       "      <td>Peaceful</td>\n",
       "      <td>Community Leaders</td>\n",
       "    </tr>\n",
       "    <tr>\n",
       "      <th>285808</th>\n",
       "      <td>2014-07-28</td>\n",
       "      <td>Nakuru</td>\n",
       "      <td>Climate Change</td>\n",
       "      <td>31478</td>\n",
       "      <td>Violent Clashes</td>\n",
       "      <td>Youth Movement</td>\n",
       "    </tr>\n",
       "  </tbody>\n",
       "</table>\n",
       "</div>"
      ],
      "text/plain": [
       "              Date Location           Cause  Participants          Outcome  \\\n",
       "443058  2017-02-01     Meru     Fuel Prices         94800  Violent Clashes   \n",
       "681691  2020-11-27  Garissa    Unemployment         30339         Peaceful   \n",
       "285808  2014-07-28   Nakuru  Climate Change         31478  Violent Clashes   \n",
       "\n",
       "                Organizer  \n",
       "443058              Union  \n",
       "681691  Community Leaders  \n",
       "285808     Youth Movement  "
      ]
     },
     "execution_count": 3,
     "metadata": {},
     "output_type": "execute_result"
    }
   ],
   "source": [
    "df.sample(3)"
   ]
  },
  {
   "cell_type": "code",
   "execution_count": 4,
   "id": "e23dcdfb-5de2-41a2-b272-6b88f64f59c0",
   "metadata": {},
   "outputs": [
    {
     "data": {
      "text/html": [
       "<div>\n",
       "<style scoped>\n",
       "    .dataframe tbody tr th:only-of-type {\n",
       "        vertical-align: middle;\n",
       "    }\n",
       "\n",
       "    .dataframe tbody tr th {\n",
       "        vertical-align: top;\n",
       "    }\n",
       "\n",
       "    .dataframe thead th {\n",
       "        text-align: right;\n",
       "    }\n",
       "</style>\n",
       "<table border=\"1\" class=\"dataframe\">\n",
       "  <thead>\n",
       "    <tr style=\"text-align: right;\">\n",
       "      <th></th>\n",
       "      <th>Date</th>\n",
       "      <th>Location</th>\n",
       "      <th>Cause</th>\n",
       "      <th>Participants</th>\n",
       "      <th>Outcome</th>\n",
       "      <th>Organizer</th>\n",
       "    </tr>\n",
       "  </thead>\n",
       "  <tbody>\n",
       "    <tr>\n",
       "      <th>0</th>\n",
       "      <td>2010-01-01</td>\n",
       "      <td>Naivasha</td>\n",
       "      <td>Fuel Prices</td>\n",
       "      <td>9307</td>\n",
       "      <td>Arrests</td>\n",
       "      <td>Youth Movement</td>\n",
       "    </tr>\n",
       "    <tr>\n",
       "      <th>1</th>\n",
       "      <td>2010-01-01</td>\n",
       "      <td>Nakuru</td>\n",
       "      <td>Climate Change</td>\n",
       "      <td>7893</td>\n",
       "      <td>Arrests</td>\n",
       "      <td>Community Leaders</td>\n",
       "    </tr>\n",
       "    <tr>\n",
       "      <th>2</th>\n",
       "      <td>2010-01-01</td>\n",
       "      <td>Machakos</td>\n",
       "      <td>Climate Change</td>\n",
       "      <td>79809</td>\n",
       "      <td>Peaceful</td>\n",
       "      <td>Civil Society</td>\n",
       "    </tr>\n",
       "    <tr>\n",
       "      <th>3</th>\n",
       "      <td>2010-01-01</td>\n",
       "      <td>Eldoret</td>\n",
       "      <td>Land Grievances</td>\n",
       "      <td>97113</td>\n",
       "      <td>Arrests</td>\n",
       "      <td>Political Party</td>\n",
       "    </tr>\n",
       "    <tr>\n",
       "      <th>4</th>\n",
       "      <td>2010-01-01</td>\n",
       "      <td>Naivasha</td>\n",
       "      <td>Fuel Prices</td>\n",
       "      <td>66165</td>\n",
       "      <td>Violent Clashes</td>\n",
       "      <td>Civil Society</td>\n",
       "    </tr>\n",
       "  </tbody>\n",
       "</table>\n",
       "</div>"
      ],
      "text/plain": [
       "         Date  Location            Cause  Participants          Outcome  \\\n",
       "0  2010-01-01  Naivasha      Fuel Prices          9307          Arrests   \n",
       "1  2010-01-01    Nakuru   Climate Change          7893          Arrests   \n",
       "2  2010-01-01  Machakos   Climate Change         79809         Peaceful   \n",
       "3  2010-01-01   Eldoret  Land Grievances         97113          Arrests   \n",
       "4  2010-01-01  Naivasha      Fuel Prices         66165  Violent Clashes   \n",
       "\n",
       "           Organizer  \n",
       "0     Youth Movement  \n",
       "1  Community Leaders  \n",
       "2      Civil Society  \n",
       "3    Political Party  \n",
       "4      Civil Society  "
      ]
     },
     "execution_count": 4,
     "metadata": {},
     "output_type": "execute_result"
    }
   ],
   "source": [
    "df.head()"
   ]
  },
  {
   "cell_type": "code",
   "execution_count": 5,
   "id": "5b119a4c-cfd4-4f65-afe6-eba477fbfb53",
   "metadata": {},
   "outputs": [
    {
     "data": {
      "text/plain": [
       "Date            object\n",
       "Location        object\n",
       "Cause           object\n",
       "Participants     int64\n",
       "Outcome         object\n",
       "Organizer       object\n",
       "dtype: object"
      ]
     },
     "execution_count": 5,
     "metadata": {},
     "output_type": "execute_result"
    }
   ],
   "source": [
    "df.dtypes"
   ]
  },
  {
   "cell_type": "code",
   "execution_count": 6,
   "id": "95906c77-33aa-4d65-b6ff-d8de3ae0142a",
   "metadata": {},
   "outputs": [],
   "source": [
    "from pyspark.sql import SparkSession\n",
    "from pyspark.sql.functions import col "
   ]
  },
  {
   "cell_type": "code",
   "execution_count": 7,
   "id": "e7d37f4d-2b2f-445c-bf6c-5c7f2139c470",
   "metadata": {},
   "outputs": [
    {
     "name": "stderr",
     "output_type": "stream",
     "text": [
      "25/01/22 11:40:56 WARN Utils: Your hostname, DESKTOP-EUV20F0 resolves to a loopback address: 127.0.1.1; using 172.30.123.101 instead (on interface eth0)\n",
      "25/01/22 11:40:56 WARN Utils: Set SPARK_LOCAL_IP if you need to bind to another address\n",
      "Setting default log level to \"WARN\".\n",
      "To adjust logging level use sc.setLogLevel(newLevel). For SparkR, use setLogLevel(newLevel).\n",
      "25/01/22 11:40:58 WARN NativeCodeLoader: Unable to load native-hadoop library for your platform... using builtin-java classes where applicable\n"
     ]
    }
   ],
   "source": [
    "spark = SparkSession.builder \\\n",
    "        .master(\"local\") \\\n",
    "        .appName(\"data cleaning with pyspark\") \\\n",
    "        .getOrCreate()"
   ]
  },
  {
   "cell_type": "code",
   "execution_count": 8,
   "id": "bdef9a24-a8ec-4b1e-8de9-59d23bd0cfc6",
   "metadata": {},
   "outputs": [
    {
     "data": {
      "text/html": [
       "\n",
       "            <div>\n",
       "                <p><b>SparkSession - in-memory</b></p>\n",
       "                \n",
       "        <div>\n",
       "            <p><b>SparkContext</b></p>\n",
       "\n",
       "            <p><a href=\"http://172.30.123.101:4040\">Spark UI</a></p>\n",
       "\n",
       "            <dl>\n",
       "              <dt>Version</dt>\n",
       "                <dd><code>v3.5.1</code></dd>\n",
       "              <dt>Master</dt>\n",
       "                <dd><code>local</code></dd>\n",
       "              <dt>AppName</dt>\n",
       "                <dd><code>data cleaning with pyspark</code></dd>\n",
       "            </dl>\n",
       "        </div>\n",
       "        \n",
       "            </div>\n",
       "        "
      ],
      "text/plain": [
       "<pyspark.sql.session.SparkSession at 0x7f2ae37ef500>"
      ]
     },
     "execution_count": 8,
     "metadata": {},
     "output_type": "execute_result"
    },
    {
     "name": "stderr",
     "output_type": "stream",
     "text": [
      "25/01/22 11:41:19 WARN GarbageCollectionMetrics: To enable non-built-in garbage collector(s) List(G1 Concurrent GC), users should configure it(them) to spark.eventLog.gcMetrics.youngGenerationGarbageCollectors or spark.eventLog.gcMetrics.oldGenerationGarbageCollectors\n"
     ]
    }
   ],
   "source": [
    "spark"
   ]
  },
  {
   "cell_type": "code",
   "execution_count": 9,
   "id": "7404fa09-d663-4d6b-8465-f781cfbb1056",
   "metadata": {},
   "outputs": [
    {
     "name": "stderr",
     "output_type": "stream",
     "text": [
      "                                                                                \r"
     ]
    }
   ],
   "source": [
    "df = spark.read.options(header='true', inferSchema='true').csv('maandamano_kenya_dataset.csv')"
   ]
  },
  {
   "cell_type": "code",
   "execution_count": 10,
   "id": "7d143c79-6c58-421f-9369-3b9f5c826ed3",
   "metadata": {},
   "outputs": [
    {
     "name": "stdout",
     "output_type": "stream",
     "text": [
      "+----------+--------+-------------------+------------+---------------+-----------------+\n",
      "|      Date|Location|              Cause|Participants|        Outcome|        Organizer|\n",
      "+----------+--------+-------------------+------------+---------------+-----------------+\n",
      "|2010-01-01|Naivasha|        Fuel Prices|        9307|        Arrests|   Youth Movement|\n",
      "|2010-01-01|  Nakuru|     Climate Change|        7893|        Arrests|Community Leaders|\n",
      "|2010-01-01|Machakos|     Climate Change|       79809|       Peaceful|    Civil Society|\n",
      "|2010-01-01| Eldoret|    Land Grievances|       97113|        Arrests|  Political Party|\n",
      "|2010-01-01|Naivasha|        Fuel Prices|       66165|Violent Clashes|    Civil Society|\n",
      "|2010-01-01|    Meru| Healthcare Strikes|       18066|       Peaceful|  Political Party|\n",
      "|2010-01-01|  Kisumu|   Election Results|       41847|Violent Clashes|Community Leaders|\n",
      "|2010-01-01|Naivasha|       Unemployment|        9610|       Peaceful|  Political Party|\n",
      "|2010-01-01|Machakos|   Police Brutality|       11685|Violent Clashes|            Union|\n",
      "|2010-01-01| Eldoret|    Land Grievances|       71633|Violent Clashes|            Union|\n",
      "|2010-01-01|  Nakuru|     Wages Disputes|       76338|       Peaceful|            Union|\n",
      "|2010-01-01|Machakos|     Climate Change|       25101|       Peaceful|  Political Party|\n",
      "|2010-01-01|Machakos|     Climate Change|       34258|        Arrests|    Civil Society|\n",
      "|2010-01-01|  Kisumu|         Corruption|       28706|       Peaceful|    Civil Society|\n",
      "|2010-01-01|   Thika|    Land Grievances|       84761|       Peaceful|    Civil Society|\n",
      "|2010-01-01| Eldoret|        Fuel Prices|       73757|        Arrests|   Youth Movement|\n",
      "|2010-01-01| Mombasa|     Climate Change|       56365|        Arrests|            Union|\n",
      "|2010-01-01|Machakos|High Cost of Living|        7696|Violent Clashes|Community Leaders|\n",
      "|2010-01-01|   Thika|     Wages Disputes|       77447|        Arrests|  Political Party|\n",
      "|2010-01-01| Mombasa|   Election Results|       73140|       Peaceful|            Union|\n",
      "+----------+--------+-------------------+------------+---------------+-----------------+\n",
      "only showing top 20 rows\n",
      "\n"
     ]
    }
   ],
   "source": [
    "df.show()"
   ]
  },
  {
   "cell_type": "code",
   "execution_count": 11,
   "id": "62b79652-b97d-43ba-a0a9-d9b65bc5c20f",
   "metadata": {},
   "outputs": [
    {
     "data": {
      "text/plain": [
       "StructType([StructField('Date', DateType(), True), StructField('Location', StringType(), True), StructField('Cause', StringType(), True), StructField('Participants', IntegerType(), True), StructField('Outcome', StringType(), True), StructField('Organizer', StringType(), True)])"
      ]
     },
     "execution_count": 11,
     "metadata": {},
     "output_type": "execute_result"
    }
   ],
   "source": [
    "df.schema"
   ]
  },
  {
   "cell_type": "code",
   "execution_count": 12,
   "id": "7ac4ae64-9ccd-4e95-ba66-9eb92069b4cf",
   "metadata": {},
   "outputs": [
    {
     "name": "stdout",
     "output_type": "stream",
     "text": [
      "root\n",
      " |-- Date: date (nullable = true)\n",
      " |-- Location: string (nullable = true)\n",
      " |-- Cause: string (nullable = true)\n",
      " |-- Participants: integer (nullable = true)\n",
      " |-- Outcome: string (nullable = true)\n",
      " |-- Organizer: string (nullable = true)\n",
      "\n"
     ]
    }
   ],
   "source": [
    "df.printSchema()"
   ]
  },
  {
   "cell_type": "code",
   "execution_count": 13,
   "id": "5f5ba4f7-d022-4127-a210-1204f77248ae",
   "metadata": {},
   "outputs": [],
   "source": [
    "# Standardize column names to lowercase\n",
    "df_cleaned = df.toDF(*[c.lower() for c in df.columns])"
   ]
  },
  {
   "cell_type": "code",
   "execution_count": 14,
   "id": "db316fb6-1eca-4ec3-b058-8dcdee4e9316",
   "metadata": {},
   "outputs": [
    {
     "data": {
      "text/plain": [
       "DataFrame[date: date, location: string, cause: string, participants: int, outcome: string, organizer: string]"
      ]
     },
     "execution_count": 14,
     "metadata": {},
     "output_type": "execute_result"
    }
   ],
   "source": [
    "df_cleaned"
   ]
  },
  {
   "cell_type": "code",
   "execution_count": 15,
   "id": "6059c6bd-992a-4a5e-8042-d765ba13c72c",
   "metadata": {},
   "outputs": [
    {
     "name": "stdout",
     "output_type": "stream",
     "text": [
      "+----------+--------+-------------------+------------+---------------+-----------------+\n",
      "|      date|location|              cause|participants|        outcome|        organizer|\n",
      "+----------+--------+-------------------+------------+---------------+-----------------+\n",
      "|2010-01-01|Naivasha|        Fuel Prices|        9307|        Arrests|   Youth Movement|\n",
      "|2010-01-01|  Nakuru|     Climate Change|        7893|        Arrests|Community Leaders|\n",
      "|2010-01-01|Machakos|     Climate Change|       79809|       Peaceful|    Civil Society|\n",
      "|2010-01-01| Eldoret|    Land Grievances|       97113|        Arrests|  Political Party|\n",
      "|2010-01-01|Naivasha|        Fuel Prices|       66165|Violent Clashes|    Civil Society|\n",
      "|2010-01-01|    Meru| Healthcare Strikes|       18066|       Peaceful|  Political Party|\n",
      "|2010-01-01|  Kisumu|   Election Results|       41847|Violent Clashes|Community Leaders|\n",
      "|2010-01-01|Naivasha|       Unemployment|        9610|       Peaceful|  Political Party|\n",
      "|2010-01-01|Machakos|   Police Brutality|       11685|Violent Clashes|            Union|\n",
      "|2010-01-01| Eldoret|    Land Grievances|       71633|Violent Clashes|            Union|\n",
      "|2010-01-01|  Nakuru|     Wages Disputes|       76338|       Peaceful|            Union|\n",
      "|2010-01-01|Machakos|     Climate Change|       25101|       Peaceful|  Political Party|\n",
      "|2010-01-01|Machakos|     Climate Change|       34258|        Arrests|    Civil Society|\n",
      "|2010-01-01|  Kisumu|         Corruption|       28706|       Peaceful|    Civil Society|\n",
      "|2010-01-01|   Thika|    Land Grievances|       84761|       Peaceful|    Civil Society|\n",
      "|2010-01-01| Eldoret|        Fuel Prices|       73757|        Arrests|   Youth Movement|\n",
      "|2010-01-01| Mombasa|     Climate Change|       56365|        Arrests|            Union|\n",
      "|2010-01-01|Machakos|High Cost of Living|        7696|Violent Clashes|Community Leaders|\n",
      "|2010-01-01|   Thika|     Wages Disputes|       77447|        Arrests|  Political Party|\n",
      "|2010-01-01| Mombasa|   Election Results|       73140|       Peaceful|            Union|\n",
      "+----------+--------+-------------------+------------+---------------+-----------------+\n",
      "only showing top 20 rows\n",
      "\n"
     ]
    }
   ],
   "source": [
    "df_cleaned.show()"
   ]
  },
  {
   "cell_type": "code",
   "execution_count": null,
   "id": "f67e9d2b-7e83-4a8e-a824-16d1803491e0",
   "metadata": {},
   "outputs": [],
   "source": []
  }
 ],
 "metadata": {
  "kernelspec": {
   "display_name": "Python 3 (ipykernel)",
   "language": "python",
   "name": "python3"
  },
  "language_info": {
   "codemirror_mode": {
    "name": "ipython",
    "version": 3
   },
   "file_extension": ".py",
   "mimetype": "text/x-python",
   "name": "python",
   "nbconvert_exporter": "python",
   "pygments_lexer": "ipython3",
   "version": "3.12.4"
  }
 },
 "nbformat": 4,
 "nbformat_minor": 5
}
